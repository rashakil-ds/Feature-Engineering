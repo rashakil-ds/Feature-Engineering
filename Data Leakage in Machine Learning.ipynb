{
 "cells": [
  {
   "cell_type": "markdown",
   "id": "4476c65b",
   "metadata": {},
   "source": [
    "[Watch Full Video on Data Leakage](https://youtu.be/UELHcSU_Dpg)"
   ]
  },
  {
   "cell_type": "markdown",
   "id": "a5ffa0fa",
   "metadata": {},
   "source": [
    "`Data Leakage` (also called information leakage) happens when information that should be unavailable during model training accidentally influences the model. Our model “sees” or “learns from” data it shouldn’t have access to (like test data or future data). This causes `unrealistically high accuracy during training/testing`, but poor performance on unseen data."
   ]
  },
  {
   "cell_type": "markdown",
   "id": "c1fddf31",
   "metadata": {},
   "source": [
    "# ⚠️ Common Causes\n",
    "\n",
    "1. Doing preprocessing (scaling, encoding, imputing) before train-test split\n",
    "\n",
    "2. Using target values to create features\n",
    "\n",
    "3. Mixing future data with past data in time series problems"
   ]
  },
  {
   "cell_type": "code",
   "execution_count": 1,
   "id": "9a889af3",
   "metadata": {},
   "outputs": [],
   "source": [
    "from sklearn.datasets import make_regression\n",
    "from sklearn.preprocessing import StandardScaler\n",
    "from sklearn.linear_model import LinearRegression\n",
    "from sklearn.model_selection import train_test_split\n",
    "from sklearn.metrics import r2_score"
   ]
  },
  {
   "cell_type": "code",
   "execution_count": 2,
   "id": "6075bcb4",
   "metadata": {},
   "outputs": [],
   "source": [
    "x, y = make_regression(n_samples=500, n_features=3, noise=50, random_state=42)"
   ]
  },
  {
   "cell_type": "markdown",
   "id": "94f28c3f",
   "metadata": {},
   "source": [
    "# ❌ WRONG WAY (Data Leakage)"
   ]
  },
  {
   "cell_type": "code",
   "execution_count": 3,
   "id": "b51eba29",
   "metadata": {},
   "outputs": [],
   "source": [
    "scaler = StandardScaler()\n",
    "X_scaled_leak = scaler.fit_transform(x)        # Scaler sees all data (train + test)\n",
    "X_train_leak, X_test_leak, y_train, y_test = train_test_split(X_scaled_leak, y, test_size=0.2, random_state=42)"
   ]
  },
  {
   "cell_type": "code",
   "execution_count": 4,
   "id": "8d9b5523",
   "metadata": {},
   "outputs": [],
   "source": [
    "model_leak = LinearRegression()\n",
    "model_leak.fit(X_train_leak, y_train)\n",
    "pred_leak = model_leak.predict(X_test_leak)"
   ]
  },
  {
   "cell_type": "code",
   "execution_count": 5,
   "id": "c95748e0",
   "metadata": {},
   "outputs": [
    {
     "name": "stdout",
     "output_type": "stream",
     "text": [
      "With Data Leakage (scaled before split): 0.7945396288418394\n"
     ]
    }
   ],
   "source": [
    "print(\"With Data Leakage (scaled before split):\", r2_score(y_test, pred_leak))"
   ]
  },
  {
   "cell_type": "markdown",
   "id": "8e20b3dd",
   "metadata": {},
   "source": [
    "The model really learns — but it’s learning from `cheated information`.\n",
    "\n",
    "That’s why leaky models look smart in testing, but `collapse` in production.\n",
    "\n",
    "Always isolate your training data, and fit transformations or create features only on training — never on the whole dataset."
   ]
  },
  {
   "cell_type": "markdown",
   "id": "74e551e9",
   "metadata": {},
   "source": [
    "# ✅ CORRECT WAY (No Leakage)"
   ]
  },
  {
   "cell_type": "code",
   "execution_count": 6,
   "id": "ddd01c92",
   "metadata": {},
   "outputs": [],
   "source": [
    "X_train, X_test, y_train, y_test = train_test_split(x, y, test_size=0.2, random_state=42)"
   ]
  },
  {
   "cell_type": "code",
   "execution_count": 7,
   "id": "52df4004",
   "metadata": {},
   "outputs": [
    {
     "data": {
      "image/png": "[encoded data removed]",
      "text/plain": [
       "<IPython.core.display.Image object>"
      ]
     },
     "execution_count": 7,
     "metadata": {},
     "output_type": "execute_result"
    }
   ],
   "source": [
    "from IPython.display import Image\n",
    "Image(filename='std.png')"
   ]
  },
  {
   "cell_type": "code",
   "execution_count": 8,
   "id": "e6d45b2c",
   "metadata": {},
   "outputs": [],
   "source": [
    "scaler = StandardScaler()\n",
    "X_train_scaled = scaler.fit_transform(X_train)   # fit only on training"
   ]
  },
  {
   "cell_type": "code",
   "execution_count": 9,
   "id": "2a366b98",
   "metadata": {},
   "outputs": [],
   "source": [
    "X_test_scaled = scaler.transform(X_test)         # transform test separately"
   ]
  },
  {
   "cell_type": "code",
   "execution_count": 10,
   "id": "0d2f8328",
   "metadata": {},
   "outputs": [],
   "source": [
    "model_clean = LinearRegression()\n",
    "model_clean.fit(X_train_scaled, y_train)\n",
    "pred_clean = model_clean.predict(X_test_scaled)"
   ]
  },
  {
   "cell_type": "code",
   "execution_count": 11,
   "id": "6b19fa48",
   "metadata": {},
   "outputs": [
    {
     "name": "stdout",
     "output_type": "stream",
     "text": [
      "Without Data Leakage: 0.7945396288418394\n"
     ]
    }
   ],
   "source": [
    "print(\"Without Data Leakage:\", r2_score(y_test, pred_clean))"
   ]
  },
  {
   "cell_type": "code",
   "execution_count": null,
   "id": "9186420a",
   "metadata": {},
   "outputs": [],
   "source": []
  }
 ],
 "metadata": {
  "kernelspec": {
   "display_name": "Python 3 (ipykernel)",
   "language": "python",
   "name": "python3"
  },
  "language_info": {
   "codemirror_mode": {
    "name": "ipython",
    "version": 3
   },
   "file_extension": ".py",
   "mimetype": "text/x-python",
   "name": "python",
   "nbconvert_exporter": "python",
   "pygments_lexer": "ipython3",
   "version": "3.9.13"
  }
 },
 "nbformat": 4,
 "nbformat_minor": 5
}
